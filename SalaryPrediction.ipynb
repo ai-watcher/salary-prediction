{
 "cells": [
  {
   "cell_type": "code",
   "execution_count": 118,
   "id": "a779d00e",
   "metadata": {},
   "outputs": [],
   "source": [
    "import pandas as pd\n",
    "import numpy as np\n",
    "import matplotlib.pyplot as plt"
   ]
  },
  {
   "cell_type": "code",
   "execution_count": 119,
   "id": "beaf3749",
   "metadata": {},
   "outputs": [],
   "source": [
    "df = pd.read_csv(\"./Files/survey_results_public.csv\")"
   ]
  },
  {
   "cell_type": "code",
   "execution_count": 120,
   "id": "ff8159fd",
   "metadata": {},
   "outputs": [
    {
     "data": {
      "text/html": [
       "<div>\n",
       "<style scoped>\n",
       "    .dataframe tbody tr th:only-of-type {\n",
       "        vertical-align: middle;\n",
       "    }\n",
       "\n",
       "    .dataframe tbody tr th {\n",
       "        vertical-align: top;\n",
       "    }\n",
       "\n",
       "    .dataframe thead th {\n",
       "        text-align: right;\n",
       "    }\n",
       "</style>\n",
       "<table border=\"1\" class=\"dataframe\">\n",
       "  <thead>\n",
       "    <tr style=\"text-align: right;\">\n",
       "      <th></th>\n",
       "      <th>ResponseId</th>\n",
       "      <th>MainBranch</th>\n",
       "      <th>Employment</th>\n",
       "      <th>Country</th>\n",
       "      <th>US_State</th>\n",
       "      <th>UK_Country</th>\n",
       "      <th>EdLevel</th>\n",
       "      <th>Age1stCode</th>\n",
       "      <th>LearnCode</th>\n",
       "      <th>YearsCode</th>\n",
       "      <th>...</th>\n",
       "      <th>Age</th>\n",
       "      <th>Gender</th>\n",
       "      <th>Trans</th>\n",
       "      <th>Sexuality</th>\n",
       "      <th>Ethnicity</th>\n",
       "      <th>Accessibility</th>\n",
       "      <th>MentalHealth</th>\n",
       "      <th>SurveyLength</th>\n",
       "      <th>SurveyEase</th>\n",
       "      <th>ConvertedCompYearly</th>\n",
       "    </tr>\n",
       "  </thead>\n",
       "  <tbody>\n",
       "    <tr>\n",
       "      <th>0</th>\n",
       "      <td>1</td>\n",
       "      <td>I am a developer by profession</td>\n",
       "      <td>Independent contractor, freelancer, or self-em...</td>\n",
       "      <td>Slovakia</td>\n",
       "      <td>NaN</td>\n",
       "      <td>NaN</td>\n",
       "      <td>Secondary school (e.g. American high school, G...</td>\n",
       "      <td>18 - 24 years</td>\n",
       "      <td>Coding Bootcamp;Other online resources (ex: vi...</td>\n",
       "      <td>NaN</td>\n",
       "      <td>...</td>\n",
       "      <td>25-34 years old</td>\n",
       "      <td>Man</td>\n",
       "      <td>No</td>\n",
       "      <td>Straight / Heterosexual</td>\n",
       "      <td>White or of European descent</td>\n",
       "      <td>None of the above</td>\n",
       "      <td>None of the above</td>\n",
       "      <td>Appropriate in length</td>\n",
       "      <td>Easy</td>\n",
       "      <td>62268.0</td>\n",
       "    </tr>\n",
       "    <tr>\n",
       "      <th>1</th>\n",
       "      <td>2</td>\n",
       "      <td>I am a student who is learning to code</td>\n",
       "      <td>Student, full-time</td>\n",
       "      <td>Netherlands</td>\n",
       "      <td>NaN</td>\n",
       "      <td>NaN</td>\n",
       "      <td>Bachelor’s degree (B.A., B.S., B.Eng., etc.)</td>\n",
       "      <td>11 - 17 years</td>\n",
       "      <td>Other online resources (ex: videos, blogs, etc...</td>\n",
       "      <td>7</td>\n",
       "      <td>...</td>\n",
       "      <td>18-24 years old</td>\n",
       "      <td>Man</td>\n",
       "      <td>No</td>\n",
       "      <td>Straight / Heterosexual</td>\n",
       "      <td>White or of European descent</td>\n",
       "      <td>None of the above</td>\n",
       "      <td>None of the above</td>\n",
       "      <td>Appropriate in length</td>\n",
       "      <td>Easy</td>\n",
       "      <td>NaN</td>\n",
       "    </tr>\n",
       "    <tr>\n",
       "      <th>2</th>\n",
       "      <td>3</td>\n",
       "      <td>I am not primarily a developer, but I write co...</td>\n",
       "      <td>Student, full-time</td>\n",
       "      <td>Russian Federation</td>\n",
       "      <td>NaN</td>\n",
       "      <td>NaN</td>\n",
       "      <td>Bachelor’s degree (B.A., B.S., B.Eng., etc.)</td>\n",
       "      <td>11 - 17 years</td>\n",
       "      <td>Other online resources (ex: videos, blogs, etc...</td>\n",
       "      <td>NaN</td>\n",
       "      <td>...</td>\n",
       "      <td>18-24 years old</td>\n",
       "      <td>Man</td>\n",
       "      <td>No</td>\n",
       "      <td>Prefer not to say</td>\n",
       "      <td>Prefer not to say</td>\n",
       "      <td>None of the above</td>\n",
       "      <td>None of the above</td>\n",
       "      <td>Appropriate in length</td>\n",
       "      <td>Easy</td>\n",
       "      <td>NaN</td>\n",
       "    </tr>\n",
       "    <tr>\n",
       "      <th>3</th>\n",
       "      <td>4</td>\n",
       "      <td>I am a developer by profession</td>\n",
       "      <td>Employed full-time</td>\n",
       "      <td>Austria</td>\n",
       "      <td>NaN</td>\n",
       "      <td>NaN</td>\n",
       "      <td>Master’s degree (M.A., M.S., M.Eng., MBA, etc.)</td>\n",
       "      <td>11 - 17 years</td>\n",
       "      <td>NaN</td>\n",
       "      <td>NaN</td>\n",
       "      <td>...</td>\n",
       "      <td>35-44 years old</td>\n",
       "      <td>Man</td>\n",
       "      <td>No</td>\n",
       "      <td>Straight / Heterosexual</td>\n",
       "      <td>White or of European descent</td>\n",
       "      <td>I am deaf / hard of hearing</td>\n",
       "      <td>NaN</td>\n",
       "      <td>Appropriate in length</td>\n",
       "      <td>Neither easy nor difficult</td>\n",
       "      <td>NaN</td>\n",
       "    </tr>\n",
       "    <tr>\n",
       "      <th>4</th>\n",
       "      <td>5</td>\n",
       "      <td>I am a developer by profession</td>\n",
       "      <td>Independent contractor, freelancer, or self-em...</td>\n",
       "      <td>United Kingdom of Great Britain and Northern I...</td>\n",
       "      <td>NaN</td>\n",
       "      <td>England</td>\n",
       "      <td>Master’s degree (M.A., M.S., M.Eng., MBA, etc.)</td>\n",
       "      <td>5 - 10 years</td>\n",
       "      <td>Friend or family member</td>\n",
       "      <td>17</td>\n",
       "      <td>...</td>\n",
       "      <td>25-34 years old</td>\n",
       "      <td>Man</td>\n",
       "      <td>No</td>\n",
       "      <td>NaN</td>\n",
       "      <td>White or of European descent</td>\n",
       "      <td>None of the above</td>\n",
       "      <td>NaN</td>\n",
       "      <td>Appropriate in length</td>\n",
       "      <td>Easy</td>\n",
       "      <td>NaN</td>\n",
       "    </tr>\n",
       "  </tbody>\n",
       "</table>\n",
       "<p>5 rows × 48 columns</p>\n",
       "</div>"
      ],
      "text/plain": [
       "   ResponseId                                         MainBranch  \\\n",
       "0           1                     I am a developer by profession   \n",
       "1           2             I am a student who is learning to code   \n",
       "2           3  I am not primarily a developer, but I write co...   \n",
       "3           4                     I am a developer by profession   \n",
       "4           5                     I am a developer by profession   \n",
       "\n",
       "                                          Employment  \\\n",
       "0  Independent contractor, freelancer, or self-em...   \n",
       "1                                 Student, full-time   \n",
       "2                                 Student, full-time   \n",
       "3                                 Employed full-time   \n",
       "4  Independent contractor, freelancer, or self-em...   \n",
       "\n",
       "                                             Country US_State UK_Country  \\\n",
       "0                                           Slovakia      NaN        NaN   \n",
       "1                                        Netherlands      NaN        NaN   \n",
       "2                                 Russian Federation      NaN        NaN   \n",
       "3                                            Austria      NaN        NaN   \n",
       "4  United Kingdom of Great Britain and Northern I...      NaN    England   \n",
       "\n",
       "                                             EdLevel     Age1stCode  \\\n",
       "0  Secondary school (e.g. American high school, G...  18 - 24 years   \n",
       "1       Bachelor’s degree (B.A., B.S., B.Eng., etc.)  11 - 17 years   \n",
       "2       Bachelor’s degree (B.A., B.S., B.Eng., etc.)  11 - 17 years   \n",
       "3    Master’s degree (M.A., M.S., M.Eng., MBA, etc.)  11 - 17 years   \n",
       "4    Master’s degree (M.A., M.S., M.Eng., MBA, etc.)   5 - 10 years   \n",
       "\n",
       "                                           LearnCode YearsCode  ...  \\\n",
       "0  Coding Bootcamp;Other online resources (ex: vi...       NaN  ...   \n",
       "1  Other online resources (ex: videos, blogs, etc...         7  ...   \n",
       "2  Other online resources (ex: videos, blogs, etc...       NaN  ...   \n",
       "3                                                NaN       NaN  ...   \n",
       "4                            Friend or family member        17  ...   \n",
       "\n",
       "               Age Gender Trans                Sexuality  \\\n",
       "0  25-34 years old    Man    No  Straight / Heterosexual   \n",
       "1  18-24 years old    Man    No  Straight / Heterosexual   \n",
       "2  18-24 years old    Man    No        Prefer not to say   \n",
       "3  35-44 years old    Man    No  Straight / Heterosexual   \n",
       "4  25-34 years old    Man    No                      NaN   \n",
       "\n",
       "                      Ethnicity                Accessibility  \\\n",
       "0  White or of European descent            None of the above   \n",
       "1  White or of European descent            None of the above   \n",
       "2             Prefer not to say            None of the above   \n",
       "3  White or of European descent  I am deaf / hard of hearing   \n",
       "4  White or of European descent            None of the above   \n",
       "\n",
       "        MentalHealth           SurveyLength                  SurveyEase  \\\n",
       "0  None of the above  Appropriate in length                        Easy   \n",
       "1  None of the above  Appropriate in length                        Easy   \n",
       "2  None of the above  Appropriate in length                        Easy   \n",
       "3                NaN  Appropriate in length  Neither easy nor difficult   \n",
       "4                NaN  Appropriate in length                        Easy   \n",
       "\n",
       "  ConvertedCompYearly  \n",
       "0             62268.0  \n",
       "1                 NaN  \n",
       "2                 NaN  \n",
       "3                 NaN  \n",
       "4                 NaN  \n",
       "\n",
       "[5 rows x 48 columns]"
      ]
     },
     "execution_count": 120,
     "metadata": {},
     "output_type": "execute_result"
    }
   ],
   "source": [
    "df.head()"
   ]
  },
  {
   "cell_type": "code",
   "execution_count": 121,
   "id": "b758eedb",
   "metadata": {},
   "outputs": [
    {
     "data": {
      "text/plain": [
       "(83439, 48)"
      ]
     },
     "execution_count": 121,
     "metadata": {},
     "output_type": "execute_result"
    }
   ],
   "source": [
    "df.shape"
   ]
  },
  {
   "cell_type": "code",
   "execution_count": 122,
   "id": "d1ba7776",
   "metadata": {},
   "outputs": [
    {
     "name": "stdout",
     "output_type": "stream",
     "text": [
      "<class 'pandas.core.frame.DataFrame'>\n",
      "RangeIndex: 83439 entries, 0 to 83438\n",
      "Data columns (total 48 columns):\n",
      " #   Column                        Non-Null Count  Dtype  \n",
      "---  ------                        --------------  -----  \n",
      " 0   ResponseId                    83439 non-null  int64  \n",
      " 1   MainBranch                    83439 non-null  object \n",
      " 2   Employment                    83323 non-null  object \n",
      " 3   Country                       83439 non-null  object \n",
      " 4   US_State                      14920 non-null  object \n",
      " 5   UK_Country                    4418 non-null   object \n",
      " 6   EdLevel                       83126 non-null  object \n",
      " 7   Age1stCode                    83243 non-null  object \n",
      " 8   LearnCode                     82963 non-null  object \n",
      " 9   YearsCode                     81641 non-null  object \n",
      " 10  YearsCodePro                  61216 non-null  object \n",
      " 11  DevType                       66484 non-null  object \n",
      " 12  OrgSize                       60726 non-null  object \n",
      " 13  Currency                      61080 non-null  object \n",
      " 14  CompTotal                     47183 non-null  float64\n",
      " 15  CompFreq                      52150 non-null  object \n",
      " 16  LanguageHaveWorkedWith        82357 non-null  object \n",
      " 17  LanguageWantToWorkWith        76821 non-null  object \n",
      " 18  DatabaseHaveWorkedWith        69546 non-null  object \n",
      " 19  DatabaseWantToWorkWith        58299 non-null  object \n",
      " 20  PlatformHaveWorkedWith        52135 non-null  object \n",
      " 21  PlatformWantToWorkWith        41619 non-null  object \n",
      " 22  WebframeHaveWorkedWith        61707 non-null  object \n",
      " 23  WebframeWantToWorkWith        52095 non-null  object \n",
      " 24  MiscTechHaveWorkedWith        47055 non-null  object \n",
      " 25  MiscTechWantToWorkWith        38021 non-null  object \n",
      " 26  ToolsTechHaveWorkedWith       72537 non-null  object \n",
      " 27  ToolsTechWantToWorkWith       65480 non-null  object \n",
      " 28  NEWCollabToolsHaveWorkedWith  81234 non-null  object \n",
      " 29  NEWCollabToolsWantToWorkWith  73022 non-null  object \n",
      " 30  OpSys                         83294 non-null  object \n",
      " 31  NEWStuck                      83052 non-null  object \n",
      " 32  NEWSOSites                    83171 non-null  object \n",
      " 33  SOVisitFreq                   82413 non-null  object \n",
      " 34  SOAccount                     82525 non-null  object \n",
      " 35  SOPartFreq                    67553 non-null  object \n",
      " 36  SOComm                        82319 non-null  object \n",
      " 37  NEWOtherComms                 82828 non-null  object \n",
      " 38  Age                           82407 non-null  object \n",
      " 39  Gender                        82286 non-null  object \n",
      " 40  Trans                         80678 non-null  object \n",
      " 41  Sexuality                     73366 non-null  object \n",
      " 42  Ethnicity                     79464 non-null  object \n",
      " 43  Accessibility                 77603 non-null  object \n",
      " 44  MentalHealth                  76920 non-null  object \n",
      " 45  SurveyLength                  81711 non-null  object \n",
      " 46  SurveyEase                    81948 non-null  object \n",
      " 47  ConvertedCompYearly           46844 non-null  float64\n",
      "dtypes: float64(2), int64(1), object(45)\n",
      "memory usage: 30.6+ MB\n"
     ]
    }
   ],
   "source": [
    "df.info()"
   ]
  },
  {
   "cell_type": "code",
   "execution_count": 123,
   "id": "5bc9a01a",
   "metadata": {},
   "outputs": [
    {
     "data": {
      "text/plain": [
       "Index(['ResponseId', 'MainBranch', 'Employment', 'Country', 'US_State',\n",
       "       'UK_Country', 'EdLevel', 'Age1stCode', 'LearnCode', 'YearsCode',\n",
       "       'YearsCodePro', 'DevType', 'OrgSize', 'Currency', 'CompTotal',\n",
       "       'CompFreq', 'LanguageHaveWorkedWith', 'LanguageWantToWorkWith',\n",
       "       'DatabaseHaveWorkedWith', 'DatabaseWantToWorkWith',\n",
       "       'PlatformHaveWorkedWith', 'PlatformWantToWorkWith',\n",
       "       'WebframeHaveWorkedWith', 'WebframeWantToWorkWith',\n",
       "       'MiscTechHaveWorkedWith', 'MiscTechWantToWorkWith',\n",
       "       'ToolsTechHaveWorkedWith', 'ToolsTechWantToWorkWith',\n",
       "       'NEWCollabToolsHaveWorkedWith', 'NEWCollabToolsWantToWorkWith', 'OpSys',\n",
       "       'NEWStuck', 'NEWSOSites', 'SOVisitFreq', 'SOAccount', 'SOPartFreq',\n",
       "       'SOComm', 'NEWOtherComms', 'Age', 'Gender', 'Trans', 'Sexuality',\n",
       "       'Ethnicity', 'Accessibility', 'MentalHealth', 'SurveyLength',\n",
       "       'SurveyEase', 'ConvertedCompYearly'],\n",
       "      dtype='object')"
      ]
     },
     "execution_count": 123,
     "metadata": {},
     "output_type": "execute_result"
    }
   ],
   "source": [
    "df.columns"
   ]
  },
  {
   "cell_type": "code",
   "execution_count": 124,
   "id": "61f1d0ec",
   "metadata": {},
   "outputs": [
    {
     "data": {
      "text/html": [
       "<div>\n",
       "<style scoped>\n",
       "    .dataframe tbody tr th:only-of-type {\n",
       "        vertical-align: middle;\n",
       "    }\n",
       "\n",
       "    .dataframe tbody tr th {\n",
       "        vertical-align: top;\n",
       "    }\n",
       "\n",
       "    .dataframe thead th {\n",
       "        text-align: right;\n",
       "    }\n",
       "</style>\n",
       "<table border=\"1\" class=\"dataframe\">\n",
       "  <thead>\n",
       "    <tr style=\"text-align: right;\">\n",
       "      <th></th>\n",
       "      <th>Country</th>\n",
       "      <th>EdLevel</th>\n",
       "      <th>YearsCodePro</th>\n",
       "      <th>Employment</th>\n",
       "      <th>Gender</th>\n",
       "      <th>Salary</th>\n",
       "    </tr>\n",
       "  </thead>\n",
       "  <tbody>\n",
       "    <tr>\n",
       "      <th>0</th>\n",
       "      <td>Slovakia</td>\n",
       "      <td>Secondary school (e.g. American high school, G...</td>\n",
       "      <td>NaN</td>\n",
       "      <td>Independent contractor, freelancer, or self-em...</td>\n",
       "      <td>Man</td>\n",
       "      <td>62268.0</td>\n",
       "    </tr>\n",
       "    <tr>\n",
       "      <th>1</th>\n",
       "      <td>Netherlands</td>\n",
       "      <td>Bachelor’s degree (B.A., B.S., B.Eng., etc.)</td>\n",
       "      <td>NaN</td>\n",
       "      <td>Student, full-time</td>\n",
       "      <td>Man</td>\n",
       "      <td>NaN</td>\n",
       "    </tr>\n",
       "    <tr>\n",
       "      <th>2</th>\n",
       "      <td>Russian Federation</td>\n",
       "      <td>Bachelor’s degree (B.A., B.S., B.Eng., etc.)</td>\n",
       "      <td>NaN</td>\n",
       "      <td>Student, full-time</td>\n",
       "      <td>Man</td>\n",
       "      <td>NaN</td>\n",
       "    </tr>\n",
       "    <tr>\n",
       "      <th>3</th>\n",
       "      <td>Austria</td>\n",
       "      <td>Master’s degree (M.A., M.S., M.Eng., MBA, etc.)</td>\n",
       "      <td>NaN</td>\n",
       "      <td>Employed full-time</td>\n",
       "      <td>Man</td>\n",
       "      <td>NaN</td>\n",
       "    </tr>\n",
       "    <tr>\n",
       "      <th>4</th>\n",
       "      <td>United Kingdom of Great Britain and Northern I...</td>\n",
       "      <td>Master’s degree (M.A., M.S., M.Eng., MBA, etc.)</td>\n",
       "      <td>10</td>\n",
       "      <td>Independent contractor, freelancer, or self-em...</td>\n",
       "      <td>Man</td>\n",
       "      <td>NaN</td>\n",
       "    </tr>\n",
       "  </tbody>\n",
       "</table>\n",
       "</div>"
      ],
      "text/plain": [
       "                                             Country  \\\n",
       "0                                           Slovakia   \n",
       "1                                        Netherlands   \n",
       "2                                 Russian Federation   \n",
       "3                                            Austria   \n",
       "4  United Kingdom of Great Britain and Northern I...   \n",
       "\n",
       "                                             EdLevel YearsCodePro  \\\n",
       "0  Secondary school (e.g. American high school, G...          NaN   \n",
       "1       Bachelor’s degree (B.A., B.S., B.Eng., etc.)          NaN   \n",
       "2       Bachelor’s degree (B.A., B.S., B.Eng., etc.)          NaN   \n",
       "3    Master’s degree (M.A., M.S., M.Eng., MBA, etc.)          NaN   \n",
       "4    Master’s degree (M.A., M.S., M.Eng., MBA, etc.)           10   \n",
       "\n",
       "                                          Employment Gender   Salary  \n",
       "0  Independent contractor, freelancer, or self-em...    Man  62268.0  \n",
       "1                                 Student, full-time    Man      NaN  \n",
       "2                                 Student, full-time    Man      NaN  \n",
       "3                                 Employed full-time    Man      NaN  \n",
       "4  Independent contractor, freelancer, or self-em...    Man      NaN  "
      ]
     },
     "execution_count": 124,
     "metadata": {},
     "output_type": "execute_result"
    }
   ],
   "source": [
    "new = df[['Country', 'EdLevel', 'YearsCodePro', 'Employment', 'Gender', 'ConvertedCompYearly']]\n",
    "new = new.rename({\"ConvertedCompYearly\" : \"Salary\"}, axis=1)\n",
    "new.head()"
   ]
  },
  {
   "cell_type": "code",
   "execution_count": 125,
   "id": "40581ca5",
   "metadata": {},
   "outputs": [
    {
     "data": {
      "text/plain": [
       "(83439, 6)"
      ]
     },
     "execution_count": 125,
     "metadata": {},
     "output_type": "execute_result"
    }
   ],
   "source": [
    "new.shape"
   ]
  },
  {
   "cell_type": "code",
   "execution_count": 126,
   "id": "52b0843d",
   "metadata": {},
   "outputs": [
    {
     "data": {
      "text/html": [
       "<div>\n",
       "<style scoped>\n",
       "    .dataframe tbody tr th:only-of-type {\n",
       "        vertical-align: middle;\n",
       "    }\n",
       "\n",
       "    .dataframe tbody tr th {\n",
       "        vertical-align: top;\n",
       "    }\n",
       "\n",
       "    .dataframe thead th {\n",
       "        text-align: right;\n",
       "    }\n",
       "</style>\n",
       "<table border=\"1\" class=\"dataframe\">\n",
       "  <thead>\n",
       "    <tr style=\"text-align: right;\">\n",
       "      <th></th>\n",
       "      <th>Country</th>\n",
       "      <th>EdLevel</th>\n",
       "      <th>YearsCodePro</th>\n",
       "      <th>Employment</th>\n",
       "      <th>Gender</th>\n",
       "      <th>Salary</th>\n",
       "    </tr>\n",
       "  </thead>\n",
       "  <tbody>\n",
       "    <tr>\n",
       "      <th>0</th>\n",
       "      <td>Slovakia</td>\n",
       "      <td>Secondary school (e.g. American high school, G...</td>\n",
       "      <td>NaN</td>\n",
       "      <td>Independent contractor, freelancer, or self-em...</td>\n",
       "      <td>Man</td>\n",
       "      <td>62268.0</td>\n",
       "    </tr>\n",
       "    <tr>\n",
       "      <th>9</th>\n",
       "      <td>Sweden</td>\n",
       "      <td>Master’s degree (M.A., M.S., M.Eng., MBA, etc.)</td>\n",
       "      <td>4</td>\n",
       "      <td>Employed full-time</td>\n",
       "      <td>Man</td>\n",
       "      <td>51552.0</td>\n",
       "    </tr>\n",
       "    <tr>\n",
       "      <th>11</th>\n",
       "      <td>Spain</td>\n",
       "      <td>Bachelor’s degree (B.A., B.S., B.Eng., etc.)</td>\n",
       "      <td>5</td>\n",
       "      <td>Employed full-time</td>\n",
       "      <td>Man</td>\n",
       "      <td>46482.0</td>\n",
       "    </tr>\n",
       "    <tr>\n",
       "      <th>12</th>\n",
       "      <td>Germany</td>\n",
       "      <td>Master’s degree (M.A., M.S., M.Eng., MBA, etc.)</td>\n",
       "      <td>6</td>\n",
       "      <td>Employed full-time</td>\n",
       "      <td>Man</td>\n",
       "      <td>77290.0</td>\n",
       "    </tr>\n",
       "    <tr>\n",
       "      <th>16</th>\n",
       "      <td>Turkey</td>\n",
       "      <td>Bachelor’s degree (B.A., B.S., B.Eng., etc.)</td>\n",
       "      <td>2</td>\n",
       "      <td>Employed full-time</td>\n",
       "      <td>Man</td>\n",
       "      <td>17748.0</td>\n",
       "    </tr>\n",
       "  </tbody>\n",
       "</table>\n",
       "</div>"
      ],
      "text/plain": [
       "     Country                                            EdLevel YearsCodePro  \\\n",
       "0   Slovakia  Secondary school (e.g. American high school, G...          NaN   \n",
       "9     Sweden    Master’s degree (M.A., M.S., M.Eng., MBA, etc.)            4   \n",
       "11     Spain       Bachelor’s degree (B.A., B.S., B.Eng., etc.)            5   \n",
       "12   Germany    Master’s degree (M.A., M.S., M.Eng., MBA, etc.)            6   \n",
       "16    Turkey       Bachelor’s degree (B.A., B.S., B.Eng., etc.)            2   \n",
       "\n",
       "                                           Employment Gender   Salary  \n",
       "0   Independent contractor, freelancer, or self-em...    Man  62268.0  \n",
       "9                                  Employed full-time    Man  51552.0  \n",
       "11                                 Employed full-time    Man  46482.0  \n",
       "12                                 Employed full-time    Man  77290.0  \n",
       "16                                 Employed full-time    Man  17748.0  "
      ]
     },
     "execution_count": 126,
     "metadata": {},
     "output_type": "execute_result"
    }
   ],
   "source": [
    "new = new[new[\"Salary\"].notnull()]\n",
    "new.head()"
   ]
  },
  {
   "cell_type": "code",
   "execution_count": 127,
   "id": "5e1d1ed6",
   "metadata": {},
   "outputs": [
    {
     "data": {
      "text/plain": [
       "(46844, 6)"
      ]
     },
     "execution_count": 127,
     "metadata": {},
     "output_type": "execute_result"
    }
   ],
   "source": [
    "new.shape"
   ]
  },
  {
   "cell_type": "code",
   "execution_count": 128,
   "id": "67d25851",
   "metadata": {},
   "outputs": [
    {
     "name": "stdout",
     "output_type": "stream",
     "text": [
      "<class 'pandas.core.frame.DataFrame'>\n",
      "Int64Index: 46844 entries, 0 to 83438\n",
      "Data columns (total 6 columns):\n",
      " #   Column        Non-Null Count  Dtype  \n",
      "---  ------        --------------  -----  \n",
      " 0   Country       46844 non-null  object \n",
      " 1   EdLevel       46823 non-null  object \n",
      " 2   YearsCodePro  46391 non-null  object \n",
      " 3   Employment    46831 non-null  object \n",
      " 4   Gender        46669 non-null  object \n",
      " 5   Salary        46844 non-null  float64\n",
      "dtypes: float64(1), object(5)\n",
      "memory usage: 2.5+ MB\n"
     ]
    }
   ],
   "source": [
    "new.info()"
   ]
  },
  {
   "cell_type": "code",
   "execution_count": 129,
   "id": "80961dc2",
   "metadata": {},
   "outputs": [
    {
     "data": {
      "text/plain": [
       "Country           0\n",
       "EdLevel          21\n",
       "YearsCodePro    453\n",
       "Employment       13\n",
       "Gender          175\n",
       "Salary            0\n",
       "dtype: int64"
      ]
     },
     "execution_count": 129,
     "metadata": {},
     "output_type": "execute_result"
    }
   ],
   "source": [
    "new.isnull().sum()"
   ]
  },
  {
   "cell_type": "code",
   "execution_count": 130,
   "id": "84ac7d40",
   "metadata": {},
   "outputs": [],
   "source": [
    "new = new.dropna()"
   ]
  },
  {
   "cell_type": "code",
   "execution_count": 131,
   "id": "c72f4430",
   "metadata": {},
   "outputs": [
    {
     "data": {
      "text/plain": [
       "Country         0\n",
       "EdLevel         0\n",
       "YearsCodePro    0\n",
       "Employment      0\n",
       "Gender          0\n",
       "Salary          0\n",
       "dtype: int64"
      ]
     },
     "execution_count": 131,
     "metadata": {},
     "output_type": "execute_result"
    }
   ],
   "source": [
    "new.isnull().sum()"
   ]
  },
  {
   "cell_type": "code",
   "execution_count": 132,
   "id": "969b9e04",
   "metadata": {},
   "outputs": [
    {
     "data": {
      "text/plain": [
       "(46195, 6)"
      ]
     },
     "execution_count": 132,
     "metadata": {},
     "output_type": "execute_result"
    }
   ],
   "source": [
    "new.shape"
   ]
  },
  {
   "cell_type": "code",
   "execution_count": 133,
   "id": "4477c5fd",
   "metadata": {},
   "outputs": [
    {
     "data": {
      "text/html": [
       "<div>\n",
       "<style scoped>\n",
       "    .dataframe tbody tr th:only-of-type {\n",
       "        vertical-align: middle;\n",
       "    }\n",
       "\n",
       "    .dataframe tbody tr th {\n",
       "        vertical-align: top;\n",
       "    }\n",
       "\n",
       "    .dataframe thead th {\n",
       "        text-align: right;\n",
       "    }\n",
       "</style>\n",
       "<table border=\"1\" class=\"dataframe\">\n",
       "  <thead>\n",
       "    <tr style=\"text-align: right;\">\n",
       "      <th></th>\n",
       "      <th>Country</th>\n",
       "      <th>EdLevel</th>\n",
       "      <th>YearsCodePro</th>\n",
       "      <th>Employment</th>\n",
       "      <th>Gender</th>\n",
       "      <th>Salary</th>\n",
       "    </tr>\n",
       "  </thead>\n",
       "  <tbody>\n",
       "    <tr>\n",
       "      <th>9</th>\n",
       "      <td>Sweden</td>\n",
       "      <td>Master’s degree (M.A., M.S., M.Eng., MBA, etc.)</td>\n",
       "      <td>4</td>\n",
       "      <td>Employed full-time</td>\n",
       "      <td>Man</td>\n",
       "      <td>51552.0</td>\n",
       "    </tr>\n",
       "    <tr>\n",
       "      <th>11</th>\n",
       "      <td>Spain</td>\n",
       "      <td>Bachelor’s degree (B.A., B.S., B.Eng., etc.)</td>\n",
       "      <td>5</td>\n",
       "      <td>Employed full-time</td>\n",
       "      <td>Man</td>\n",
       "      <td>46482.0</td>\n",
       "    </tr>\n",
       "    <tr>\n",
       "      <th>12</th>\n",
       "      <td>Germany</td>\n",
       "      <td>Master’s degree (M.A., M.S., M.Eng., MBA, etc.)</td>\n",
       "      <td>6</td>\n",
       "      <td>Employed full-time</td>\n",
       "      <td>Man</td>\n",
       "      <td>77290.0</td>\n",
       "    </tr>\n",
       "    <tr>\n",
       "      <th>16</th>\n",
       "      <td>Turkey</td>\n",
       "      <td>Bachelor’s degree (B.A., B.S., B.Eng., etc.)</td>\n",
       "      <td>2</td>\n",
       "      <td>Employed full-time</td>\n",
       "      <td>Man</td>\n",
       "      <td>17748.0</td>\n",
       "    </tr>\n",
       "    <tr>\n",
       "      <th>17</th>\n",
       "      <td>Canada</td>\n",
       "      <td>Bachelor’s degree (B.A., B.S., B.Eng., etc.)</td>\n",
       "      <td>6</td>\n",
       "      <td>Employed full-time</td>\n",
       "      <td>Man</td>\n",
       "      <td>46135.0</td>\n",
       "    </tr>\n",
       "  </tbody>\n",
       "</table>\n",
       "</div>"
      ],
      "text/plain": [
       "    Country                                          EdLevel YearsCodePro  \\\n",
       "9    Sweden  Master’s degree (M.A., M.S., M.Eng., MBA, etc.)            4   \n",
       "11    Spain     Bachelor’s degree (B.A., B.S., B.Eng., etc.)            5   \n",
       "12  Germany  Master’s degree (M.A., M.S., M.Eng., MBA, etc.)            6   \n",
       "16   Turkey     Bachelor’s degree (B.A., B.S., B.Eng., etc.)            2   \n",
       "17   Canada     Bachelor’s degree (B.A., B.S., B.Eng., etc.)            6   \n",
       "\n",
       "            Employment Gender   Salary  \n",
       "9   Employed full-time    Man  51552.0  \n",
       "11  Employed full-time    Man  46482.0  \n",
       "12  Employed full-time    Man  77290.0  \n",
       "16  Employed full-time    Man  17748.0  \n",
       "17  Employed full-time    Man  46135.0  "
      ]
     },
     "execution_count": 133,
     "metadata": {},
     "output_type": "execute_result"
    }
   ],
   "source": [
    "new.head()"
   ]
  },
  {
   "cell_type": "code",
   "execution_count": 134,
   "id": "1f13998e",
   "metadata": {},
   "outputs": [],
   "source": [
    "new = new[new[\"Employment\"] == \"Employed full-time\"]"
   ]
  },
  {
   "cell_type": "code",
   "execution_count": 135,
   "id": "872dd561",
   "metadata": {},
   "outputs": [
    {
     "data": {
      "text/plain": [
       "(40080, 6)"
      ]
     },
     "execution_count": 135,
     "metadata": {},
     "output_type": "execute_result"
    }
   ],
   "source": [
    "new.shape"
   ]
  },
  {
   "cell_type": "code",
   "execution_count": 136,
   "id": "40967c9f",
   "metadata": {},
   "outputs": [],
   "source": [
    "new = new.drop(\"Employment\", axis=1)"
   ]
  },
  {
   "cell_type": "code",
   "execution_count": 137,
   "id": "7430447c",
   "metadata": {},
   "outputs": [
    {
     "data": {
      "text/html": [
       "<div>\n",
       "<style scoped>\n",
       "    .dataframe tbody tr th:only-of-type {\n",
       "        vertical-align: middle;\n",
       "    }\n",
       "\n",
       "    .dataframe tbody tr th {\n",
       "        vertical-align: top;\n",
       "    }\n",
       "\n",
       "    .dataframe thead th {\n",
       "        text-align: right;\n",
       "    }\n",
       "</style>\n",
       "<table border=\"1\" class=\"dataframe\">\n",
       "  <thead>\n",
       "    <tr style=\"text-align: right;\">\n",
       "      <th></th>\n",
       "      <th>Country</th>\n",
       "      <th>EdLevel</th>\n",
       "      <th>YearsCodePro</th>\n",
       "      <th>Gender</th>\n",
       "      <th>Salary</th>\n",
       "    </tr>\n",
       "  </thead>\n",
       "  <tbody>\n",
       "    <tr>\n",
       "      <th>9</th>\n",
       "      <td>Sweden</td>\n",
       "      <td>Master’s degree (M.A., M.S., M.Eng., MBA, etc.)</td>\n",
       "      <td>4</td>\n",
       "      <td>Man</td>\n",
       "      <td>51552.0</td>\n",
       "    </tr>\n",
       "    <tr>\n",
       "      <th>11</th>\n",
       "      <td>Spain</td>\n",
       "      <td>Bachelor’s degree (B.A., B.S., B.Eng., etc.)</td>\n",
       "      <td>5</td>\n",
       "      <td>Man</td>\n",
       "      <td>46482.0</td>\n",
       "    </tr>\n",
       "    <tr>\n",
       "      <th>12</th>\n",
       "      <td>Germany</td>\n",
       "      <td>Master’s degree (M.A., M.S., M.Eng., MBA, etc.)</td>\n",
       "      <td>6</td>\n",
       "      <td>Man</td>\n",
       "      <td>77290.0</td>\n",
       "    </tr>\n",
       "    <tr>\n",
       "      <th>16</th>\n",
       "      <td>Turkey</td>\n",
       "      <td>Bachelor’s degree (B.A., B.S., B.Eng., etc.)</td>\n",
       "      <td>2</td>\n",
       "      <td>Man</td>\n",
       "      <td>17748.0</td>\n",
       "    </tr>\n",
       "    <tr>\n",
       "      <th>17</th>\n",
       "      <td>Canada</td>\n",
       "      <td>Bachelor’s degree (B.A., B.S., B.Eng., etc.)</td>\n",
       "      <td>6</td>\n",
       "      <td>Man</td>\n",
       "      <td>46135.0</td>\n",
       "    </tr>\n",
       "  </tbody>\n",
       "</table>\n",
       "</div>"
      ],
      "text/plain": [
       "    Country                                          EdLevel YearsCodePro  \\\n",
       "9    Sweden  Master’s degree (M.A., M.S., M.Eng., MBA, etc.)            4   \n",
       "11    Spain     Bachelor’s degree (B.A., B.S., B.Eng., etc.)            5   \n",
       "12  Germany  Master’s degree (M.A., M.S., M.Eng., MBA, etc.)            6   \n",
       "16   Turkey     Bachelor’s degree (B.A., B.S., B.Eng., etc.)            2   \n",
       "17   Canada     Bachelor’s degree (B.A., B.S., B.Eng., etc.)            6   \n",
       "\n",
       "   Gender   Salary  \n",
       "9     Man  51552.0  \n",
       "11    Man  46482.0  \n",
       "12    Man  77290.0  \n",
       "16    Man  17748.0  \n",
       "17    Man  46135.0  "
      ]
     },
     "execution_count": 137,
     "metadata": {},
     "output_type": "execute_result"
    }
   ],
   "source": [
    "new.head()"
   ]
  },
  {
   "cell_type": "code",
   "execution_count": 138,
   "id": "4862bbea",
   "metadata": {},
   "outputs": [
    {
     "data": {
      "text/plain": [
       "(40080, 5)"
      ]
     },
     "execution_count": 138,
     "metadata": {},
     "output_type": "execute_result"
    }
   ],
   "source": [
    "new.shape"
   ]
  },
  {
   "cell_type": "code",
   "execution_count": 139,
   "id": "fada00a1",
   "metadata": {},
   "outputs": [
    {
     "data": {
      "text/plain": [
       "United States of America                                9124\n",
       "India                                                   3377\n",
       "Germany                                                 2747\n",
       "United Kingdom of Great Britain and Northern Ireland    2597\n",
       "Canada                                                  1549\n",
       "                                                        ... \n",
       "Dominica                                                   1\n",
       "Libyan Arab Jamahiriya                                     1\n",
       "Monaco                                                     1\n",
       "Somalia                                                    1\n",
       "Burundi                                                    1\n",
       "Name: Country, Length: 166, dtype: int64"
      ]
     },
     "execution_count": 139,
     "metadata": {},
     "output_type": "execute_result"
    }
   ],
   "source": [
    "new[\"Country\"].value_counts()"
   ]
  },
  {
   "cell_type": "code",
   "execution_count": 140,
   "id": "70442ff5",
   "metadata": {},
   "outputs": [],
   "source": [
    "def shorten_categories(categories, cutoff):\n",
    "    categorical_map = {}\n",
    "    for i in range(len(categories)):\n",
    "        if categories.values[i] >= cutoff:\n",
    "            categorical_map[categories.index[i]] = categories.index[i]\n",
    "        else:\n",
    "            categorical_map[categories.index[i]] = 'Other'\n",
    "    return categorical_map"
   ]
  },
  {
   "cell_type": "code",
   "execution_count": 141,
   "id": "9c9eb762",
   "metadata": {},
   "outputs": [
    {
     "data": {
      "text/plain": [
       "United States of America                                9124\n",
       "India                                                   3377\n",
       "Germany                                                 2747\n",
       "United Kingdom of Great Britain and Northern Ireland    2597\n",
       "Other                                                   2372\n",
       "Canada                                                  1549\n",
       "France                                                  1390\n",
       "Brazil                                                  1338\n",
       "Spain                                                    887\n",
       "Netherlands                                              832\n",
       "Australia                                                824\n",
       "Poland                                                   775\n",
       "Italy                                                    755\n",
       "Russian Federation                                       739\n",
       "Sweden                                                   732\n",
       "Turkey                                                   458\n",
       "Switzerland                                              438\n",
       "Israel                                                   423\n",
       "Norway                                                   400\n",
       "Mexico                                                   382\n",
       "Ukraine                                                  381\n",
       "Iran, Islamic Republic of...                             347\n",
       "Denmark                                                  346\n",
       "Belgium                                                  345\n",
       "Finland                                                  335\n",
       "Austria                                                  323\n",
       "Argentina                                                309\n",
       "Pakistan                                                 308\n",
       "South Africa                                             308\n",
       "Czech Republic                                           297\n",
       "Portugal                                                 282\n",
       "China                                                    280\n",
       "New Zealand                                              276\n",
       "Romania                                                  270\n",
       "Greece                                                   260\n",
       "Japan                                                    243\n",
       "Colombia                                                 241\n",
       "Bangladesh                                               221\n",
       "Bulgaria                                                 219\n",
       "Hungary                                                  214\n",
       "Ireland                                                  213\n",
       "Indonesia                                                199\n",
       "Egypt                                                    157\n",
       "Taiwan                                                   153\n",
       "Sri Lanka                                                143\n",
       "Philippines                                              142\n",
       "Serbia                                                   139\n",
       "Singapore                                                135\n",
       "Malaysia                                                 135\n",
       "Nigeria                                                  126\n",
       "Viet Nam                                                 126\n",
       "Chile                                                    118\n",
       "Croatia                                                  118\n",
       "Slovenia                                                 117\n",
       "Lithuania                                                115\n",
       "Name: Country, dtype: int64"
      ]
     },
     "execution_count": 141,
     "metadata": {},
     "output_type": "execute_result"
    }
   ],
   "source": [
    "country_map = shorten_categories(new.Country.value_counts(), 100)\n",
    "new['Country'] = new['Country'].map(country_map)\n",
    "new.Country.value_counts()"
   ]
  },
  {
   "cell_type": "code",
   "execution_count": 142,
   "id": "5f721549",
   "metadata": {},
   "outputs": [
    {
     "data": {
      "image/png": "[encoded data removed]",
      "text/plain": [
       "<Figure size 864x504 with 1 Axes>"
      ]
     },
     "metadata": {
      "needs_background": "light"
     },
     "output_type": "display_data"
    }
   ],
   "source": [
    "fig, ax = plt.subplots(1,1, figsize=(12, 7))\n",
    "new.boxplot('Salary', 'Country', ax=ax)\n",
    "plt.suptitle('Salary (US$) v Country')\n",
    "plt.title('')\n",
    "plt.ylabel('Salary')\n",
    "plt.xticks(rotation=90)\n",
    "plt.show()"
   ]
  },
  {
   "cell_type": "code",
   "execution_count": 143,
   "id": "65e32403",
   "metadata": {},
   "outputs": [],
   "source": [
    "new = new[new[\"Salary\"] <= 200000]\n",
    "new = new[new[\"Salary\"] >= 5000]\n",
    "new = new[new['Country'] != 'Other']"
   ]
  },
  {
   "cell_type": "code",
   "execution_count": 144,
   "id": "ccf77a07",
   "metadata": {},
   "outputs": [
    {
     "data": {
      "image/png": "[encoded data removed]",
      "text/plain": [
       "<Figure size 864x504 with 1 Axes>"
      ]
     },
     "metadata": {
      "needs_background": "light"
     },
     "output_type": "display_data"
    }
   ],
   "source": [
    "fig, ax = plt.subplots(1,1, figsize=(12, 7))\n",
    "new.boxplot('Salary', 'Country', ax=ax)\n",
    "plt.suptitle('Salary (US$) v Country')\n",
    "plt.title('')\n",
    "plt.ylabel('Salary')\n",
    "plt.xticks(rotation=90)\n",
    "plt.show()"
   ]
  },
  {
   "cell_type": "code",
   "execution_count": 151,
   "id": "73eab088",
   "metadata": {},
   "outputs": [
    {
     "data": {
      "text/plain": [
       "array([ 4. ,  5. ,  6. ,  2. , 18. , 21. , 16. , 10. ,  0.5,  3. , 15. ,\n",
       "        1. , 12. ,  8. , 17. , 14. ,  7. , 26. , 34. , 11. , 25. , 24. ,\n",
       "       22. , 13. ,  9. , 20. , 39. , 27. , 23. , 30. , 19. , 35. , 33. ,\n",
       "       43. , 40. , 29. , 38. , 31. , 42. , 28. , 46. , 32. , 36. , 37. ,\n",
       "       47. , 45. , 44. , 41. , 50. , 49. , 48. ])"
      ]
     },
     "execution_count": 151,
     "metadata": {},
     "output_type": "execute_result"
    }
   ],
   "source": [
    "new[\"YearsCodePro\"].unique()"
   ]
  },
  {
   "cell_type": "code",
   "execution_count": 152,
   "id": "4c4ab94d",
   "metadata": {},
   "outputs": [],
   "source": [
    "def clean_experience(x):\n",
    "    if x ==  'More than 50 years':\n",
    "        return 50\n",
    "    if x == 'Less than 1 year':\n",
    "        return 0.5\n",
    "    return float(x)\n",
    "\n",
    "new['YearsCodePro'] = new['YearsCodePro'].apply(clean_experience)"
   ]
  },
  {
   "cell_type": "code",
   "execution_count": 153,
   "id": "9dde65f9",
   "metadata": {},
   "outputs": [
    {
     "data": {
      "text/plain": [
       "array([ 4. ,  5. ,  6. ,  2. , 18. , 21. , 16. , 10. ,  0.5,  3. , 15. ,\n",
       "        1. , 12. ,  8. , 17. , 14. ,  7. , 26. , 34. , 11. , 25. , 24. ,\n",
       "       22. , 13. ,  9. , 20. , 39. , 27. , 23. , 30. , 19. , 35. , 33. ,\n",
       "       43. , 40. , 29. , 38. , 31. , 42. , 28. , 46. , 32. , 36. , 37. ,\n",
       "       47. , 45. , 44. , 41. , 50. , 49. , 48. ])"
      ]
     },
     "execution_count": 153,
     "metadata": {},
     "output_type": "execute_result"
    }
   ],
   "source": [
    "new[\"YearsCodePro\"].unique()"
   ]
  },
  {
   "cell_type": "code",
   "execution_count": 154,
   "id": "923722f9",
   "metadata": {},
   "outputs": [
    {
     "data": {
      "text/plain": [
       "array(['Master’s degree', 'Bachelor’s degree', 'Less than a Bachelors',\n",
       "       'Post grad'], dtype=object)"
      ]
     },
     "execution_count": 154,
     "metadata": {},
     "output_type": "execute_result"
    }
   ],
   "source": [
    "new[\"EdLevel\"].unique()"
   ]
  },
  {
   "cell_type": "code",
   "execution_count": 155,
   "id": "94af2c08",
   "metadata": {},
   "outputs": [],
   "source": [
    "def clean_education(x):\n",
    "    if 'Bachelor’s degree' in x:\n",
    "        return 'Bachelor’s degree'\n",
    "    if 'Master’s degree' in x:\n",
    "        return 'Master’s degree'\n",
    "    if 'Professional degree' in x or 'Other doctoral' in x:\n",
    "        return 'Post grad'\n",
    "    return 'Less than a Bachelors'\n",
    "\n",
    "new['EdLevel'] = new['EdLevel'].apply(clean_education)"
   ]
  },
  {
   "cell_type": "code",
   "execution_count": 156,
   "id": "e69de725",
   "metadata": {},
   "outputs": [
    {
     "data": {
      "text/plain": [
       "array(['Master’s degree', 'Bachelor’s degree', 'Less than a Bachelors'],\n",
       "      dtype=object)"
      ]
     },
     "execution_count": 156,
     "metadata": {},
     "output_type": "execute_result"
    }
   ],
   "source": [
    "new[\"EdLevel\"].unique()"
   ]
  },
  {
   "cell_type": "code",
   "execution_count": 157,
   "id": "58929e5c",
   "metadata": {},
   "outputs": [
    {
     "data": {
      "text/plain": [
       "array(['Man', 'Woman', 'Prefer not to say',\n",
       "       'Woman;Non-binary, genderqueer, or gender non-conforming',\n",
       "       'Man;Non-binary, genderqueer, or gender non-conforming',\n",
       "       'Or, in your own words:',\n",
       "       'Non-binary, genderqueer, or gender non-conforming',\n",
       "       'Man;Or, in your own words:',\n",
       "       'Man;Woman;Non-binary, genderqueer, or gender non-conforming',\n",
       "       'Man;Woman',\n",
       "       'Man;Non-binary, genderqueer, or gender non-conforming;Or, in your own words:',\n",
       "       'Man;Woman;Non-binary, genderqueer, or gender non-conforming;Or, in your own words:',\n",
       "       'Non-binary, genderqueer, or gender non-conforming;Or, in your own words:',\n",
       "       'Woman;Non-binary, genderqueer, or gender non-conforming;Or, in your own words:',\n",
       "       'Woman;Or, in your own words:', 'Man;Woman;Or, in your own words:'],\n",
       "      dtype=object)"
      ]
     },
     "execution_count": 157,
     "metadata": {},
     "output_type": "execute_result"
    }
   ],
   "source": [
    "new[\"Gender\"].unique()"
   ]
  },
  {
   "cell_type": "code",
   "execution_count": 158,
   "id": "77c9deed",
   "metadata": {},
   "outputs": [
    {
     "data": {
      "text/plain": [
       "Man                                                                                   31703\n",
       "Woman                                                                                  1611\n",
       "Prefer not to say                                                                       321\n",
       "Non-binary, genderqueer, or gender non-conforming                                       249\n",
       "Man;Non-binary, genderqueer, or gender non-conforming                                   111\n",
       "Or, in your own words:                                                                   97\n",
       "Man;Or, in your own words:                                                               76\n",
       "Woman;Non-binary, genderqueer, or gender non-conforming                                  66\n",
       "Man;Woman                                                                                 6\n",
       "Non-binary, genderqueer, or gender non-conforming;Or, in your own words:                  5\n",
       "Man;Woman;Non-binary, genderqueer, or gender non-conforming                               4\n",
       "Woman;Non-binary, genderqueer, or gender non-conforming;Or, in your own words:            4\n",
       "Woman;Or, in your own words:                                                              4\n",
       "Man;Non-binary, genderqueer, or gender non-conforming;Or, in your own words:              3\n",
       "Man;Woman;Non-binary, genderqueer, or gender non-conforming;Or, in your own words:        3\n",
       "Man;Woman;Or, in your own words:                                                          1\n",
       "Name: Gender, dtype: int64"
      ]
     },
     "execution_count": 158,
     "metadata": {},
     "output_type": "execute_result"
    }
   ],
   "source": [
    "new[\"Gender\"].value_counts()"
   ]
  },
  {
   "cell_type": "code",
   "execution_count": 159,
   "id": "e5118d2e",
   "metadata": {},
   "outputs": [],
   "source": [
    "def clean_gender(x):\n",
    "    if 'Man' in x:\n",
    "        return 'Man'\n",
    "    if 'Woman' in x:\n",
    "        return 'Woman'\n",
    "    return 'Others'\n",
    "\n",
    "new['Gender'] = new['Gender'].apply(clean_gender)"
   ]
  },
  {
   "cell_type": "code",
   "execution_count": 160,
   "id": "38cdc628",
   "metadata": {},
   "outputs": [
    {
     "data": {
      "text/plain": [
       "Man       31907\n",
       "Woman      1685\n",
       "Others      672\n",
       "Name: Gender, dtype: int64"
      ]
     },
     "execution_count": 160,
     "metadata": {},
     "output_type": "execute_result"
    }
   ],
   "source": [
    "new[\"Gender\"].value_counts()"
   ]
  },
  {
   "cell_type": "code",
   "execution_count": 161,
   "id": "15bfd6a8",
   "metadata": {},
   "outputs": [
    {
     "data": {
      "text/plain": [
       "array([2, 0, 1])"
      ]
     },
     "execution_count": 161,
     "metadata": {},
     "output_type": "execute_result"
    }
   ],
   "source": [
    "from sklearn.preprocessing import LabelEncoder\n",
    "label_education = LabelEncoder()\n",
    "new['EdLevel'] = label_education.fit_transform(new['EdLevel'])\n",
    "new[\"EdLevel\"].unique()"
   ]
  },
  {
   "cell_type": "code",
   "execution_count": 162,
   "id": "9fc6d541",
   "metadata": {},
   "outputs": [
    {
     "data": {
      "text/plain": [
       "array([46, 44, 17, 49,  7, 16, 47, 51, 39, 24, 50, 52,  5,  6, 18, 25, 30,\n",
       "       36, 19, 34,  3,  2, 38, 27, 42, 11, 23, 10,  1,  4,  8, 21, 22, 37,\n",
       "       20, 13, 15,  0, 14, 26, 43, 33, 40, 28, 12, 32, 41,  9, 29, 48, 53,\n",
       "       45, 35, 31])"
      ]
     },
     "execution_count": 162,
     "metadata": {},
     "output_type": "execute_result"
    }
   ],
   "source": [
    "label_country = LabelEncoder()\n",
    "new['Country'] = label_country.fit_transform(new['Country'])\n",
    "new[\"Country\"].unique()"
   ]
  },
  {
   "cell_type": "code",
   "execution_count": 163,
   "id": "e2d9f451",
   "metadata": {},
   "outputs": [
    {
     "data": {
      "text/plain": [
       "array([0, 2, 1])"
      ]
     },
     "execution_count": 163,
     "metadata": {},
     "output_type": "execute_result"
    }
   ],
   "source": [
    "label_gender = LabelEncoder()\n",
    "new['Gender'] = label_gender.fit_transform(new['Gender'])\n",
    "new[\"Gender\"].unique()"
   ]
  },
  {
   "cell_type": "code",
   "execution_count": 164,
   "id": "10a2f754",
   "metadata": {},
   "outputs": [
    {
     "data": {
      "text/html": [
       "<div>\n",
       "<style scoped>\n",
       "    .dataframe tbody tr th:only-of-type {\n",
       "        vertical-align: middle;\n",
       "    }\n",
       "\n",
       "    .dataframe tbody tr th {\n",
       "        vertical-align: top;\n",
       "    }\n",
       "\n",
       "    .dataframe thead th {\n",
       "        text-align: right;\n",
       "    }\n",
       "</style>\n",
       "<table border=\"1\" class=\"dataframe\">\n",
       "  <thead>\n",
       "    <tr style=\"text-align: right;\">\n",
       "      <th></th>\n",
       "      <th>Country</th>\n",
       "      <th>EdLevel</th>\n",
       "      <th>YearsCodePro</th>\n",
       "      <th>Gender</th>\n",
       "      <th>Salary</th>\n",
       "    </tr>\n",
       "  </thead>\n",
       "  <tbody>\n",
       "    <tr>\n",
       "      <th>9</th>\n",
       "      <td>46</td>\n",
       "      <td>2</td>\n",
       "      <td>4.0</td>\n",
       "      <td>0</td>\n",
       "      <td>51552.0</td>\n",
       "    </tr>\n",
       "    <tr>\n",
       "      <th>11</th>\n",
       "      <td>44</td>\n",
       "      <td>0</td>\n",
       "      <td>5.0</td>\n",
       "      <td>0</td>\n",
       "      <td>46482.0</td>\n",
       "    </tr>\n",
       "    <tr>\n",
       "      <th>12</th>\n",
       "      <td>17</td>\n",
       "      <td>2</td>\n",
       "      <td>6.0</td>\n",
       "      <td>0</td>\n",
       "      <td>77290.0</td>\n",
       "    </tr>\n",
       "    <tr>\n",
       "      <th>16</th>\n",
       "      <td>49</td>\n",
       "      <td>0</td>\n",
       "      <td>2.0</td>\n",
       "      <td>0</td>\n",
       "      <td>17748.0</td>\n",
       "    </tr>\n",
       "    <tr>\n",
       "      <th>17</th>\n",
       "      <td>7</td>\n",
       "      <td>0</td>\n",
       "      <td>6.0</td>\n",
       "      <td>0</td>\n",
       "      <td>46135.0</td>\n",
       "    </tr>\n",
       "  </tbody>\n",
       "</table>\n",
       "</div>"
      ],
      "text/plain": [
       "    Country  EdLevel  YearsCodePro  Gender   Salary\n",
       "9        46        2           4.0       0  51552.0\n",
       "11       44        0           5.0       0  46482.0\n",
       "12       17        2           6.0       0  77290.0\n",
       "16       49        0           2.0       0  17748.0\n",
       "17        7        0           6.0       0  46135.0"
      ]
     },
     "execution_count": 164,
     "metadata": {},
     "output_type": "execute_result"
    }
   ],
   "source": [
    "new.head()"
   ]
  },
  {
   "cell_type": "code",
   "execution_count": 165,
   "id": "ae9d24f8",
   "metadata": {},
   "outputs": [],
   "source": [
    "X = new.drop(\"Salary\", axis=1)\n",
    "y = new[\"Salary\"]"
   ]
  },
  {
   "cell_type": "code",
   "execution_count": 166,
   "id": "5fc37149",
   "metadata": {},
   "outputs": [
    {
     "data": {
      "text/plain": [
       "LinearRegression()"
      ]
     },
     "execution_count": 166,
     "metadata": {},
     "output_type": "execute_result"
    }
   ],
   "source": [
    "from sklearn.linear_model import LinearRegression\n",
    "from sklearn.model_selection import train_test_split\n",
    "linear_reg = LinearRegression()\n",
    "\n",
    "X_train, X_test, y_train, y_test = train_test_split(X, y, test_size=0.3, random_state=42)\n",
    "\n",
    "linear_reg.fit(X_train, y_train)"
   ]
  },
  {
   "cell_type": "code",
   "execution_count": 167,
   "id": "9a2ad0f4",
   "metadata": {},
   "outputs": [],
   "source": [
    "y_pred = linear_reg.predict(X_test)"
   ]
  },
  {
   "cell_type": "code",
   "execution_count": 168,
   "id": "d7933290",
   "metadata": {},
   "outputs": [],
   "source": [
    "from sklearn.metrics import mean_squared_error, mean_absolute_error\n",
    "error = np.sqrt(mean_squared_error(y_test, y_pred))"
   ]
  },
  {
   "cell_type": "code",
   "execution_count": 169,
   "id": "46085657",
   "metadata": {},
   "outputs": [
    {
     "data": {
      "text/plain": [
       "37502.28608393273"
      ]
     },
     "execution_count": 169,
     "metadata": {},
     "output_type": "execute_result"
    }
   ],
   "source": [
    "error"
   ]
  },
  {
   "cell_type": "code",
   "execution_count": 170,
   "id": "259850b3",
   "metadata": {},
   "outputs": [
    {
     "data": {
      "text/plain": [
       "DecisionTreeRegressor(random_state=0)"
      ]
     },
     "execution_count": 170,
     "metadata": {},
     "output_type": "execute_result"
    }
   ],
   "source": [
    "from sklearn.tree import DecisionTreeRegressor\n",
    "dec_tree_reg = DecisionTreeRegressor(random_state=0)\n",
    "dec_tree_reg.fit(X_train, y_train)"
   ]
  },
  {
   "cell_type": "code",
   "execution_count": 171,
   "id": "a84233bd",
   "metadata": {},
   "outputs": [],
   "source": [
    "y_pred = dec_tree_reg.predict(X_test)"
   ]
  },
  {
   "cell_type": "code",
   "execution_count": 172,
   "id": "51d40e4f",
   "metadata": {},
   "outputs": [
    {
     "name": "stdout",
     "output_type": "stream",
     "text": [
      "$28,297.38\n"
     ]
    }
   ],
   "source": [
    "error = np.sqrt(mean_squared_error(y_test, y_pred))\n",
    "print(\"${:,.02f}\".format(error))"
   ]
  },
  {
   "cell_type": "code",
   "execution_count": 173,
   "id": "1c0b26f2",
   "metadata": {},
   "outputs": [
    {
     "data": {
      "text/plain": [
       "RandomForestRegressor(random_state=0)"
      ]
     },
     "execution_count": 173,
     "metadata": {},
     "output_type": "execute_result"
    }
   ],
   "source": [
    "from sklearn.ensemble import RandomForestRegressor\n",
    "random_forest_reg = RandomForestRegressor(random_state=0)\n",
    "random_forest_reg.fit(X_train, y_train)"
   ]
  },
  {
   "cell_type": "code",
   "execution_count": 174,
   "id": "3ea6b48a",
   "metadata": {},
   "outputs": [],
   "source": [
    "y_pred = random_forest_reg.predict(X_test)"
   ]
  },
  {
   "cell_type": "code",
   "execution_count": 175,
   "id": "656191fc",
   "metadata": {},
   "outputs": [
    {
     "name": "stdout",
     "output_type": "stream",
     "text": [
      "$27,340.41\n"
     ]
    }
   ],
   "source": [
    "error = np.sqrt(mean_squared_error(y_test, y_pred))\n",
    "print(\"${:,.02f}\".format(error))"
   ]
  },
  {
   "cell_type": "code",
   "execution_count": 176,
   "id": "19620840",
   "metadata": {},
   "outputs": [
    {
     "data": {
      "text/plain": [
       "GridSearchCV(estimator=DecisionTreeRegressor(random_state=0),\n",
       "             param_grid={'max_depth': [None, 2, 4, 6, 8, 10, 12]},\n",
       "             scoring='neg_mean_squared_error')"
      ]
     },
     "execution_count": 176,
     "metadata": {},
     "output_type": "execute_result"
    }
   ],
   "source": [
    "from sklearn.model_selection import GridSearchCV\n",
    "\n",
    "max_depth = [None, 2,4,6,8,10,12]\n",
    "parameters = {\"max_depth\": max_depth}\n",
    "\n",
    "regressor = DecisionTreeRegressor(random_state=0)\n",
    "gs = GridSearchCV(regressor, parameters, scoring='neg_mean_squared_error')\n",
    "gs.fit(X_train, y_train)"
   ]
  },
  {
   "cell_type": "code",
   "execution_count": 178,
   "id": "c88a2abc",
   "metadata": {},
   "outputs": [
    {
     "name": "stdout",
     "output_type": "stream",
     "text": [
      "$27,503.10\n"
     ]
    }
   ],
   "source": [
    "regressor = gs.best_estimator_\n",
    "\n",
    "regressor.fit(X_train, y_train)\n",
    "y_pred = regressor.predict(X_test)\n",
    "error = np.sqrt(mean_squared_error(y_test, y_pred))\n",
    "print(\"${:,.02f}\".format(error))"
   ]
  },
  {
   "cell_type": "code",
   "execution_count": 179,
   "id": "c26d2268",
   "metadata": {},
   "outputs": [
    {
     "data": {
      "text/html": [
       "<div>\n",
       "<style scoped>\n",
       "    .dataframe tbody tr th:only-of-type {\n",
       "        vertical-align: middle;\n",
       "    }\n",
       "\n",
       "    .dataframe tbody tr th {\n",
       "        vertical-align: top;\n",
       "    }\n",
       "\n",
       "    .dataframe thead th {\n",
       "        text-align: right;\n",
       "    }\n",
       "</style>\n",
       "<table border=\"1\" class=\"dataframe\">\n",
       "  <thead>\n",
       "    <tr style=\"text-align: right;\">\n",
       "      <th></th>\n",
       "      <th>Country</th>\n",
       "      <th>EdLevel</th>\n",
       "      <th>YearsCodePro</th>\n",
       "      <th>Gender</th>\n",
       "      <th>Salary</th>\n",
       "    </tr>\n",
       "  </thead>\n",
       "  <tbody>\n",
       "    <tr>\n",
       "      <th>9</th>\n",
       "      <td>46</td>\n",
       "      <td>2</td>\n",
       "      <td>4.0</td>\n",
       "      <td>0</td>\n",
       "      <td>51552.0</td>\n",
       "    </tr>\n",
       "    <tr>\n",
       "      <th>11</th>\n",
       "      <td>44</td>\n",
       "      <td>0</td>\n",
       "      <td>5.0</td>\n",
       "      <td>0</td>\n",
       "      <td>46482.0</td>\n",
       "    </tr>\n",
       "    <tr>\n",
       "      <th>12</th>\n",
       "      <td>17</td>\n",
       "      <td>2</td>\n",
       "      <td>6.0</td>\n",
       "      <td>0</td>\n",
       "      <td>77290.0</td>\n",
       "    </tr>\n",
       "    <tr>\n",
       "      <th>16</th>\n",
       "      <td>49</td>\n",
       "      <td>0</td>\n",
       "      <td>2.0</td>\n",
       "      <td>0</td>\n",
       "      <td>17748.0</td>\n",
       "    </tr>\n",
       "    <tr>\n",
       "      <th>17</th>\n",
       "      <td>7</td>\n",
       "      <td>0</td>\n",
       "      <td>6.0</td>\n",
       "      <td>0</td>\n",
       "      <td>46135.0</td>\n",
       "    </tr>\n",
       "  </tbody>\n",
       "</table>\n",
       "</div>"
      ],
      "text/plain": [
       "    Country  EdLevel  YearsCodePro  Gender   Salary\n",
       "9        46        2           4.0       0  51552.0\n",
       "11       44        0           5.0       0  46482.0\n",
       "12       17        2           6.0       0  77290.0\n",
       "16       49        0           2.0       0  17748.0\n",
       "17        7        0           6.0       0  46135.0"
      ]
     },
     "execution_count": 179,
     "metadata": {},
     "output_type": "execute_result"
    }
   ],
   "source": [
    "new.head()"
   ]
  },
  {
   "cell_type": "code",
   "execution_count": 67,
   "id": "ebd2f098",
   "metadata": {},
   "outputs": [],
   "source": [
    "import pickle\n",
    "\n",
    "data = {\"model\": regressor, \"label_country\": label_country, \"label_education\": label_education, \"label_gender\": label_gender}\n",
    "with open('saved_steps.pkl', 'wb') as file:\n",
    "    pickle.dump(data, file)"
   ]
  },
  {
   "cell_type": "code",
   "execution_count": 68,
   "id": "02715dde",
   "metadata": {},
   "outputs": [],
   "source": [
    "with open('saved_steps.pkl', 'rb') as file:\n",
    "    data = pickle.load(file)\n",
    "\n",
    "regressor_loaded = data[\"model\"]\n",
    "label_country = data[\"label_country\"]\n",
    "label_education = data[\"label_education\"]\n",
    "label_gender = data[\"label_gender\"]"
   ]
  },
  {
   "cell_type": "code",
   "execution_count": 69,
   "id": "5ff746a1",
   "metadata": {},
   "outputs": [
    {
     "data": {
      "text/plain": [
       "array([131266.66666667,  37287.88235294,  20753.30853994, ...,\n",
       "        72444.03027344,  72444.03027344,  36018.91666667])"
      ]
     },
     "execution_count": 69,
     "metadata": {},
     "output_type": "execute_result"
    }
   ],
   "source": [
    "y_pred = regressor_loaded.predict(X_test)\n",
    "y_pred"
   ]
  }
 ],
 "metadata": {
  "kernelspec": {
   "display_name": "streamlitenv",
   "language": "python",
   "name": "streamlitenv"
  },
  "language_info": {
   "codemirror_mode": {
    "name": "ipython",
    "version": 3
   },
   "file_extension": ".py",
   "mimetype": "text/x-python",
   "name": "python",
   "nbconvert_exporter": "python",
   "pygments_lexer": "ipython3",
   "version": "3.9.7"
  }
 },
 "nbformat": 4,
 "nbformat_minor": 5
}
